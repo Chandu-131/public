{
 "cells": [
  {
   "cell_type": "code",
   "execution_count": 1,
   "id": "ac7cd144",
   "metadata": {},
   "outputs": [],
   "source": [
    "import pandas as pd\n",
    "import numpy as np\n",
    "import matplotlib.pyplot as plt\n",
    "import seaborn as sns\n",
    "from scipy import stats"
   ]
  },
  {
   "cell_type": "code",
   "execution_count": 4,
   "id": "3a8817e6",
   "metadata": {},
   "outputs": [
    {
     "name": "stdout",
     "output_type": "stream",
     "text": [
      "Extraction completed.\n"
     ]
    }
   ],
   "source": [
    "import zipfile\n",
    "import os\n",
    "\n",
    "zip_file_path = r\"C:\\Users\\Chand\\Documents\\drive-download-20250109T061812Z-001.zip\"\n",
    "extract_to_path = r\"C:\\Users\\Chand\\Documents\\extracted_files\"  \n",
    "\n",
    "\n",
    "if not os.path.exists(extract_to_path):\n",
    "    os.makedirs(extract_to_path)\n",
    "\n",
    "with zipfile.ZipFile(zip_file_path, 'r') as zip_ref:\n",
    "    zip_ref.extractall(extract_to_path)\n",
    "\n",
    "print(\"Extraction completed.\")"
   ]
  },
  {
   "cell_type": "code",
   "execution_count": 7,
   "id": "2f720be1",
   "metadata": {},
   "outputs": [
    {
     "name": "stdout",
     "output_type": "stream",
     "text": [
      "['Property_data', 'property_interactions.csv', 'property_photos.tsv']\n"
     ]
    }
   ],
   "source": [
    "import os\n",
    "\n",
    "extracted_files = os.listdir(r\"C:\\Users\\Chand\\Documents\\extracted_files\")\n",
    "print(extracted_files)"
   ]
  },
  {
   "cell_type": "code",
   "execution_count": 8,
   "id": "1187e6fe",
   "metadata": {},
   "outputs": [
    {
     "name": "stdout",
     "output_type": "stream",
     "text": [
      "['Akshayanagar.csv', 'Arekere.csv', 'Banashankari.csv', 'Basavanagudi.csv', 'Basaveshwar Nagar.csv', 'Begur.csv', 'Bellandur.csv', 'Bilekahalli.csv', 'Bommanahalli.csv', 'Brookefield.csv', 'BTM 2nd Stage.csv', 'BTM_Layout.csv', 'Chikkalasandra.csv', 'Doddanekundi.csv', 'Ejipura.csv', 'Electronic City.csv', 'Electronics City Phase 1.csv', 'Gottigere.csv', 'HBR Layout.csv', 'Hebbal.csv', 'Hongasandra.csv', 'Hoodi.csv', 'Horamavu.csv', 'Hosakerehalli.csv', 'HSR_Layout.csv', 'Hulimavu.csv', 'Indiranagar.csv', 'Jayanagar.csv', 'JP Nagar.csv', 'K.R Puram.csv', 'Kadugodi.csv', 'Kaggadasapura.csv', 'Kalyan Nagar.csv', 'Kammanahalli.csv', 'Kasavanahalli.csv', 'Kengeri Satellite Town.csv', 'Kengeri.csv', 'Konanakunte.csv', 'Koramangala.csv', 'Krishnarajapura.csv', 'Kumaraswamy Layout.csv', 'Lingarajapuram.csv', 'Mahadevapura.csv', 'Marathahalli.csv', 'Mathikere.csv', 'Munnekollal.csv', 'Nagarbhavi.csv', 'Padmanabhanagar.csv', 'Raja Rajeshwari Nagar.csv', 'Rajaji Nagar.csv', 'Ramamurthy Nagar.csv', 'RR Nagar.csv', 'RT Nagar.csv', 'Singasandra.csv', 'Subramanyapura.csv', 'Sunkadakatte.csv', 'Thanisandra.csv', 'Uttarahalli Hobli.csv', 'Varthur.csv', 'Vidyaranyapura.csv', 'Vijaya Nagar.csv', 'Whitefield.csv', 'Yelahanka New Town.csv', 'Yelahanka.csv']\n"
     ]
    }
   ],
   "source": [
    "property_data_files = os.listdir(r\"C:\\Users\\Chand\\Documents\\extracted_files\\Property_data\")\n",
    "print(property_data_files)"
   ]
  },
  {
   "cell_type": "code",
   "execution_count": 10,
   "id": "25c7cdd1",
   "metadata": {},
   "outputs": [
    {
     "name": "stdout",
     "output_type": "stream",
     "text": [
      "                        property_id         request_date\n",
      "0  ff808081469fd6e20146a5af948000ea  2017-03-10 17:42:34\n",
      "1  ff808081469fd6e20146a5af948000ea  2017-03-09 15:51:17\n",
      "2  ff808081469fd6e20146a5af948000ea  2017-03-10 17:30:22\n",
      "3  ff808081469fd6e20146a5af948000ea  2017-03-11 17:48:46\n",
      "4  ff8080814702d3d10147068359d200cd  2017-03-30 19:59:15\n",
      "                        property_id  \\\n",
      "0  ff808081469fd6e20146a5af948000ea   \n",
      "1  ff8080814702d3d10147068359d200cd   \n",
      "2  ff808081470c645401470fb03f5800a6   \n",
      "3  ff808081470c6454014715eaa5960281   \n",
      "4  ff808081474aa867014771a0298f0aa6   \n",
      "\n",
      "                                          photo_urls  \n",
      "0  [{\\title\\\":\\\"Balcony\\\",\\\"name\\\":\\\"IMG_20131006...  \n",
      "1                                                NaN  \n",
      "2  [{\\title\\\":\\\"Bedroom\\\",\\\"name\\\":\\\"ff808081470c...  \n",
      "3  [{\\title\\\":\\\"Bedroom\\\",\\\"name\\\":\\\"Screenshot_7...  \n",
      "4  [{\\title\\\":\\\"Other\\\",\\\"name\\\":\\\"ff808081474aa8...  \n"
     ]
    }
   ],
   "source": [
    "import pandas as pd\n",
    "\n",
    "property_interactions = pd.read_csv(r\"C:\\Users\\Chand\\Documents\\extracted_files\\property_interactions.csv\", encoding='ISO-8859-1')\n",
    "print(property_interactions.head())\n",
    "\n",
    "property_photos = pd.read_csv(r\"C:\\Users\\Chand\\Documents\\extracted_files\\property_photos.tsv\", sep=\"\\t\", encoding='ISO-8859-1')\n",
    "print(property_photos.head())"
   ]
  },
  {
   "cell_type": "code",
   "execution_count": 11,
   "id": "c9b72fb5",
   "metadata": {},
   "outputs": [
    {
     "name": "stdout",
     "output_type": "stream",
     "text": [
      "                        property_id         request_date\n",
      "0  ff808081469fd6e20146a5af948000ea  2017-03-10 17:42:34\n",
      "1  ff808081469fd6e20146a5af948000ea  2017-03-09 15:51:17\n",
      "2  ff808081469fd6e20146a5af948000ea  2017-03-10 17:30:22\n",
      "3  ff808081469fd6e20146a5af948000ea  2017-03-11 17:48:46\n",
      "4  ff8080814702d3d10147068359d200cd  2017-03-30 19:59:15\n"
     ]
    }
   ],
   "source": [
    "property_interactions['property_id'] = property_interactions['property_id'].str.replace(r'\\W', '', regex=True)\n",
    "print(property_interactions.head())"
   ]
  },
  {
   "cell_type": "code",
   "execution_count": 13,
   "id": "3fb5bd1c",
   "metadata": {},
   "outputs": [
    {
     "name": "stdout",
     "output_type": "stream",
     "text": [
      "                        property_id         request_date\n",
      "0  ff808081469fd6e20146a5af948000ea  2017-03-10 17:42:34\n",
      "1  ff808081469fd6e20146a5af948000ea  2017-03-09 15:51:17\n",
      "2  ff808081469fd6e20146a5af948000ea  2017-03-10 17:30:22\n",
      "3  ff808081469fd6e20146a5af948000ea  2017-03-11 17:48:46\n",
      "4  ff8080814702d3d10147068359d200cd  2017-03-30 19:59:15\n"
     ]
    }
   ],
   "source": [
    "\n",
    "property_interactions['property_id'] = property_interactions['property_id'].str.replace(r'\\W', '', regex=True)\n",
    "\n",
    "print(property_interactions.head())"
   ]
  },
  {
   "cell_type": "code",
   "execution_count": 15,
   "id": "cc6772ca",
   "metadata": {},
   "outputs": [
    {
     "name": "stdout",
     "output_type": "stream",
     "text": [
      "                        property_id  \\\n",
      "0  ff808081469fd6e20146a5af948000ea   \n",
      "1  ff8080814702d3d10147068359d200cd   \n",
      "2  ff808081470c645401470fb03f5800a6   \n",
      "3  ff808081470c6454014715eaa5960281   \n",
      "4  ff808081474aa867014771a0298f0aa6   \n",
      "\n",
      "                                          photo_urls  photo_count  \n",
      "0  [{\\title\\\":\\\"Balcony\\\",\\\"name\\\":\\\"IMG_20131006...            0  \n",
      "1                                                NaN            0  \n",
      "2  [{\\title\\\":\\\"Bedroom\\\",\\\"name\\\":\\\"ff808081470c...            0  \n",
      "3  [{\\title\\\":\\\"Bedroom\\\",\\\"name\\\":\\\"Screenshot_7...            0  \n",
      "4  [{\\title\\\":\\\"Other\\\",\\\"name\\\":\\\"ff808081474aa8...            0  \n"
     ]
    }
   ],
   "source": [
    "import json\n",
    "\n",
    "def extract_photo_count(photo_urls):\n",
    "    if isinstance(photo_urls, str):  # Ensure it's a string before applying replace\n",
    "        try:\n",
    "            # Convert the string to a list of JSON objects\n",
    "            photos = json.loads(photo_urls.replace(\"'\", '\"'))  # Fixing quote mismatch\n",
    "            return len(photos)  # Return the number of photos\n",
    "        except (json.JSONDecodeError, TypeError):\n",
    "            return 0  # Return 0 if it's not a valid JSON string\n",
    "    return 0  # Return 0 for NaN or non-string values\n",
    "\n",
    "property_photos['photo_count'] = property_photos['photo_urls'].apply(extract_photo_count)\n",
    "\n",
    "print(property_photos.head())"
   ]
  },
  {
   "cell_type": "code",
   "execution_count": 18,
   "id": "dcc9e4aa",
   "metadata": {},
   "outputs": [
    {
     "name": "stdout",
     "output_type": "stream",
     "text": [
      "                        property_id  \\\n",
      "0  ff808081469fd6e20146a5af948000ea   \n",
      "1  ff8080814702d3d10147068359d200cd   \n",
      "2  ff808081470c645401470fb03f5800a6   \n",
      "3  ff808081470c6454014715eaa5960281   \n",
      "4  ff808081474aa867014771a0298f0aa6   \n",
      "\n",
      "                                          photo_urls  photo_count  \n",
      "0  [{\\title\\\":\\\"Balcony\\\",\\\"name\\\":\\\"IMG_20131006...            0  \n",
      "1                                                NaN            0  \n",
      "2  [{\\title\\\":\\\"Bedroom\\\",\\\"name\\\":\\\"ff808081470c...            0  \n",
      "3  [{\\title\\\":\\\"Bedroom\\\",\\\"name\\\":\\\"Screenshot_7...            0  \n",
      "4  [{\\title\\\":\\\"Other\\\",\\\"name\\\":\\\"ff808081474aa8...            0  \n"
     ]
    }
   ],
   "source": [
    "import json\n",
    "\n",
    "def extract_photo_count(photo_urls):\n",
    "    if isinstance(photo_urls, str):  # Ensure it's a string before applying replace\n",
    "        try:\n",
    "            cleaned_urls = photo_urls.replace(\"\\\\\", \"\")  # Remove backslashes if needed\n",
    "            photos = json.loads(cleaned_urls.replace(\"'\", '\"'))  # Fixing quote mismatch\n",
    "            return len(photos)  # Return the number of photos\n",
    "        except (json.JSONDecodeError, TypeError):\n",
    "            return 0  # Return 0 if it's not a valid JSON string\n",
    "    return 0  # Return 0 for NaN or non-string values\n",
    "\n",
    "property_photos['photo_count'] = property_photos['photo_urls'].apply(extract_photo_count)\n",
    "\n",
    "print(property_photos.head())"
   ]
  },
  {
   "cell_type": "code",
   "execution_count": 20,
   "id": "4b4a7d75",
   "metadata": {},
   "outputs": [
    {
     "name": "stdout",
     "output_type": "stream",
     "text": [
      "                        property_id  \\\n",
      "0  ff808081469fd6e20146a5af948000ea   \n",
      "1  ff8080814702d3d10147068359d200cd   \n",
      "2  ff808081470c645401470fb03f5800a6   \n",
      "3  ff808081470c6454014715eaa5960281   \n",
      "4  ff808081474aa867014771a0298f0aa6   \n",
      "\n",
      "                                          photo_urls  photo_count  \n",
      "0  [{\\title\\\":\\\"Balcony\\\",\\\"name\\\":\\\"IMG_20131006...            0  \n",
      "1                                                NaN            0  \n",
      "2  [{\\title\\\":\\\"Bedroom\\\",\\\"name\\\":\\\"ff808081470c...            0  \n",
      "3  [{\\title\\\":\\\"Bedroom\\\",\\\"name\\\":\\\"Screenshot_7...            0  \n",
      "4  [{\\title\\\":\\\"Other\\\",\\\"name\\\":\\\"ff808081474aa8...            0  \n"
     ]
    }
   ],
   "source": [
    "import json\n",
    "\n",
    "def extract_photo_count(photo_urls):\n",
    "    # Ensure it's a string before applying any operations\n",
    "    if isinstance(photo_urls, str):  \n",
    "        try:\n",
    "            cleaned_urls = photo_urls.replace(\"\\\\\", \"\")  \n",
    "            \n",
    "            cleaned_urls = cleaned_urls.replace(\"'\", '\"')  \n",
    "\n",
    "            photos = json.loads(cleaned_urls)\n",
    "            \n",
    "            return len(photos)\n",
    "        except (json.JSONDecodeError, TypeError):  \n",
    "            return 0  \n",
    "    return 0\n",
    "\n",
    "property_photos['photo_count'] = property_photos['photo_urls'].apply(extract_photo_count)\n",
    "\n",
    "# Print the updated dataframe\n",
    "print(property_photos.head())"
   ]
  },
  {
   "cell_type": "code",
   "execution_count": 32,
   "id": "8ae3e65b",
   "metadata": {},
   "outputs": [
    {
     "name": "stderr",
     "output_type": "stream",
     "text": [
      "IOPub data rate exceeded.\n",
      "The notebook server will temporarily stop sending output\n",
      "to the client in order to avoid crashing it.\n",
      "To change this limit, set the config variable\n",
      "`--NotebookApp.iopub_data_rate_limit`.\n",
      "\n",
      "Current values:\n",
      "NotebookApp.iopub_data_rate_limit=1000000.0 (bytes/sec)\n",
      "NotebookApp.rate_limit_window=3.0 (secs)\n",
      "\n"
     ]
    },
    {
     "name": "stdout",
     "output_type": "stream",
     "text": [
      "File successfully saved to: C:/Users/Chand/Documents/property_photos_updated.csv\n"
     ]
    }
   ],
   "source": [
    "property_photos['photo_count'] = property_photos['photo_urls'].apply(extract_photo_count)\n",
    "\n",
    "output_path = r'C:\\Users\\Chand\\Documents\\property_photos_updated.csv'\n",
    "\n",
    "property_photos[['property_id', 'photo_urls', 'photo_count']].to_csv(output_path, index=False)\n",
    "\n",
    "print(\"File successfully saved to: C:/Users/Chand/Documents/property_photos_updated.csv\")"
   ]
  },
  {
   "cell_type": "code",
   "execution_count": 34,
   "id": "34168e50",
   "metadata": {},
   "outputs": [
    {
     "name": "stdout",
     "output_type": "stream",
     "text": [
      "                        property_id  \\\n",
      "0  ff808081469fd6e20146a5af948000ea   \n",
      "1  ff8080814702d3d10147068359d200cd   \n",
      "2  ff808081470c645401470fb03f5800a6   \n",
      "3  ff808081470c6454014715eaa5960281   \n",
      "4  ff808081474aa867014771a0298f0aa6   \n",
      "\n",
      "                                          photo_urls  photo_count  \n",
      "0  [{\\title\\\":\\\"Balcony\\\",\\\"name\\\":\\\"IMG_20131006...            0  \n",
      "1                                                NaN            0  \n",
      "2  [{\\title\\\":\\\"Bedroom\\\",\\\"name\\\":\\\"ff808081470c...            0  \n",
      "3  [{\\title\\\":\\\"Bedroom\\\",\\\"name\\\":\\\"Screenshot_7...            0  \n",
      "4  [{\\title\\\":\\\"Other\\\",\\\"name\\\":\\\"ff808081474aa8...            0  \n"
     ]
    }
   ],
   "source": [
    "import json\n",
    "import pandas as pd\n",
    "\n",
    "def extract_photo_count(photo_urls):\n",
    "    if isinstance(photo_urls, str):  # Ensure it's a string\n",
    "        try:\n",
    "            cleaned_urls = photo_urls.replace(\"\\\\\", \"\").replace(\"'\", '\"')\n",
    "            \n",
    "            photos = json.loads(cleaned_urls)\n",
    "            \n",
    "            return len(photos)\n",
    "        except (json.JSONDecodeError, TypeError):\n",
    "            return 0  # Return 0 if it's not valid JSON or other error\n",
    "    return 0  # Return 0 for NaN or non-string values\n",
    "\n",
    "property_photos['photo_count'] = property_photos['photo_urls'].apply(extract_photo_count)\n",
    "\n",
    "property_photos[['property_id', 'photo_urls', 'photo_count']].to_csv('property_photos_updated.csv', index=False)\n",
    "\n",
    "print(property_photos[['property_id', 'photo_urls', 'photo_count']].head())"
   ]
  },
  {
   "cell_type": "code",
   "execution_count": 35,
   "id": "b47a7b6f",
   "metadata": {},
   "outputs": [
    {
     "name": "stdout",
     "output_type": "stream",
     "text": [
      "0    [{\\title\\\":\\\"Balcony\\\",\\\"name\\\":\\\"IMG_20131006...\n",
      "1                                                  NaN\n",
      "2    [{\\title\\\":\\\"Bedroom\\\",\\\"name\\\":\\\"ff808081470c...\n",
      "3    [{\\title\\\":\\\"Bedroom\\\",\\\"name\\\":\\\"Screenshot_7...\n",
      "4    [{\\title\\\":\\\"Other\\\",\\\"name\\\":\\\"ff808081474aa8...\n",
      "Name: photo_urls, dtype: object\n"
     ]
    }
   ],
   "source": [
    "# Inspect a few rows of the photo_urls column\n",
    "print(property_photos['photo_urls'].head())"
   ]
  },
  {
   "cell_type": "code",
   "execution_count": 36,
   "id": "52dfcfbd",
   "metadata": {},
   "outputs": [
    {
     "name": "stdout",
     "output_type": "stream",
     "text": [
      "                        property_id  \\\n",
      "0  ff808081469fd6e20146a5af948000ea   \n",
      "1  ff8080814702d3d10147068359d200cd   \n",
      "2  ff808081470c645401470fb03f5800a6   \n",
      "3  ff808081470c6454014715eaa5960281   \n",
      "4  ff808081474aa867014771a0298f0aa6   \n",
      "\n",
      "                                    photo_urls  photo_count  \n",
      "0  [{\"title\":\"Balcony\",\"name\":\"IMG_20131006\"}]            1  \n",
      "1                                         None            0  \n",
      "2  [{\"title\":\"Bedroom\",\"name\":\"ff808081470c\"}]            1  \n",
      "3  [{\"title\":\"Bedroom\",\"name\":\"Screenshot_7\"}]            1  \n",
      "4  [{\"title\":\"Other\",\"name\":\"ff808081474aa8\"}]            1  \n"
     ]
    }
   ],
   "source": [
    "import json\n",
    "import pandas as pd\n",
    "\n",
    "data = {\n",
    "    'property_id': [\n",
    "        'ff808081469fd6e20146a5af948000ea',\n",
    "        'ff8080814702d3d10147068359d200cd',\n",
    "        'ff808081470c645401470fb03f5800a6',\n",
    "        'ff808081470c6454014715eaa5960281',\n",
    "        'ff808081474aa867014771a0298f0aa6'\n",
    "    ],\n",
    "    'photo_urls': [\n",
    "        '[{\"title\":\"Balcony\",\"name\":\"IMG_20131006\"}]',\n",
    "        None,\n",
    "        '[{\"title\":\"Bedroom\",\"name\":\"ff808081470c\"}]',\n",
    "        '[{\"title\":\"Bedroom\",\"name\":\"Screenshot_7\"}]',\n",
    "        '[{\"title\":\"Other\",\"name\":\"ff808081474aa8\"}]'\n",
    "    ]\n",
    "}\n",
    "\n",
    "# Create a DataFrame\n",
    "property_photos = pd.DataFrame(data)\n",
    "\n",
    "def extract_photo_count(photo_urls):\n",
    "    if isinstance(photo_urls, str):  # Ensure it's a string before applying any operations\n",
    "        try:\n",
    "            cleaned_urls = photo_urls.replace(\"\\\\\", \"\")  # Remove backslashes if needed\n",
    "\n",
    "            cleaned_urls = cleaned_urls.replace(\"'\", '\"')\n",
    "\n",
    "            photos = json.loads(cleaned_urls)\n",
    "\n",
    "            return len(photos)\n",
    "        except (json.JSONDecodeError, TypeError):\n",
    "            return 0  # Return 0 if it's not valid JSON or other error\n",
    "    return 0  # Return 0 for NaN or non-string values\n",
    "\n",
    "property_photos['photo_count'] = property_photos['photo_urls'].apply(extract_photo_count)\n",
    "\n",
    "print(property_photos[['property_id', 'photo_urls', 'photo_count']])"
   ]
  },
  {
   "cell_type": "code",
   "execution_count": null,
   "id": "9bfe5e9d",
   "metadata": {},
   "outputs": [],
   "source": []
  }
 ],
 "metadata": {
  "kernelspec": {
   "display_name": "Python 3 (ipykernel)",
   "language": "python",
   "name": "python3"
  },
  "language_info": {
   "codemirror_mode": {
    "name": "ipython",
    "version": 3
   },
   "file_extension": ".py",
   "mimetype": "text/x-python",
   "name": "python",
   "nbconvert_exporter": "python",
   "pygments_lexer": "ipython3",
   "version": "3.11.5"
  }
 },
 "nbformat": 4,
 "nbformat_minor": 5
}
